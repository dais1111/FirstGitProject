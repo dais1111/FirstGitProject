{
 "cells": [
  {
   "cell_type": "markdown",
   "metadata": {},
   "source": [
    "# ファイルの読み込み"
   ]
  },
  {
   "cell_type": "code",
   "execution_count": 1,
   "metadata": {},
   "outputs": [
    {
     "name": "stdout",
     "output_type": "stream",
     "text": [
      "abc\n",
      "\n",
      "123\n"
     ]
    }
   ],
   "source": [
    "f = open(\"test.txt\", \"r\")\n",
    "for line in f:  # 1行ずつ読む\n",
    "    print(line)\n",
    "f.close()"
   ]
  },
  {
   "cell_type": "code",
   "execution_count": 3,
   "metadata": {},
   "outputs": [
    {
     "name": "stdout",
     "output_type": "stream",
     "text": [
      "abc\n",
      "123\n"
     ]
    }
   ],
   "source": [
    "f = open(\"test.txt\", \"r\")\n",
    "whole = f.read()  # 一気に読む\n",
    "print(whole)\n",
    "f.close()"
   ]
  },
  {
   "cell_type": "code",
   "execution_count": 6,
   "metadata": {},
   "outputs": [
    {
     "name": "stdout",
     "output_type": "stream",
     "text": [
      "abc\n",
      "\n",
      "123\n",
      "\n",
      "\n"
     ]
    }
   ],
   "source": [
    "f = open(\"test.txt\", \"r\")\n",
    "line = f.readline()  # 1行ずつ読む（イテレータ不使用）\n",
    "for i in line:\n",
    "    print(line)\n",
    "    line = f.readline()\n",
    "f.close()"
   ]
  },
  {
   "cell_type": "code",
   "execution_count": 8,
   "metadata": {},
   "outputs": [
    {
     "name": "stdout",
     "output_type": "stream",
     "text": [
      "abc\n",
      "\n",
      "123\n"
     ]
    }
   ],
   "source": [
    "f = open(\"test.txt\", \"r\")\n",
    "lines = f.readlines()  # 一気に読んで、1行ずつリストにする\n",
    "for lin in lines:\n",
    "    print(lin)\n",
    "f.close()"
   ]
  },
  {
   "cell_type": "code",
   "execution_count": 9,
   "metadata": {},
   "outputs": [
    {
     "name": "stdout",
     "output_type": "stream",
     "text": [
      "abc\n",
      "123\n"
     ]
    }
   ],
   "source": [
    "# withによる安全なclose\n",
    "with open(\"test.txt\", \"r\") as f:\n",
    "    whole = f.read()\n",
    "    print(whole)"
   ]
  },
  {
   "cell_type": "markdown",
   "metadata": {},
   "source": [
    "# ファイルの書き出し"
   ]
  },
  {
   "cell_type": "code",
   "execution_count": 13,
   "metadata": {},
   "outputs": [],
   "source": [
    "wlist = [\"C++\", \" \", \"Java\", \" \", \"Python\"]\n",
    "with open(\"test.txt\", \"a\") as f:\n",
    "    f.write(\"Programming Languages\\n\")\n",
    "    f.writelines(wlist)  # 改行やスペース、区切りなどはなく連結のみ"
   ]
  },
  {
   "cell_type": "code",
   "execution_count": 14,
   "metadata": {},
   "outputs": [
    {
     "name": "stdout",
     "output_type": "stream",
     "text": [
      "abc\n",
      "123Programming Languages\n",
      "C++ Java Python\n"
     ]
    }
   ],
   "source": [
    "with open(\"test.txt\", \"r\") as f:\n",
    "    whole = f.read()\n",
    "    print(whole)"
   ]
  },
  {
   "cell_type": "code",
   "execution_count": 27,
   "metadata": {},
   "outputs": [
    {
     "name": "stdout",
     "output_type": "stream",
     "text": [
      "[['abc', '123']]\n"
     ]
    }
   ],
   "source": [
    "import csv\n",
    "\n",
    "with open(\"test.csv\", \"r\") as f:\n",
    "    dat = [k for k in csv.reader(f)]  # カンマ区切りごとに読む(1行：文字列のリスト)\n",
    "print(dat)"
   ]
  },
  {
   "cell_type": "code",
   "execution_count": 28,
   "metadata": {},
   "outputs": [
    {
     "name": "stdout",
     "output_type": "stream",
     "text": [
      "[['abc', '123', 'あいうえお'], ['ABC', '１２３', '亜伊宇絵尾']]\n"
     ]
    }
   ],
   "source": [
    "dat[0].append(\"あいうえお\")\n",
    "dat.append([\"ABC\", \"１２３\", \"亜伊宇絵尾\"])\n",
    "print(dat)"
   ]
  },
  {
   "cell_type": "code",
   "execution_count": 29,
   "metadata": {},
   "outputs": [],
   "source": [
    "with open(\"test.csv\", \"w\") as f:\n",
    "    writer = csv.writer(f)\n",
    "    writer.writerows(dat)"
   ]
  },
  {
   "cell_type": "code",
   "execution_count": 30,
   "metadata": {},
   "outputs": [
    {
     "name": "stdout",
     "output_type": "stream",
     "text": [
      "abc,123,あいうえお\n",
      "ABC,１２３,亜伊宇絵尾\n",
      "\n"
     ]
    }
   ],
   "source": [
    "with open(\"test.csv\", \"r\") as f:\n",
    "    whole = f.read()\n",
    "    print(whole)"
   ]
  },
  {
   "cell_type": "markdown",
   "metadata": {},
   "source": [
    "# numpyでのファイル操作"
   ]
  },
  {
   "cell_type": "code",
   "execution_count": 32,
   "metadata": {},
   "outputs": [],
   "source": [
    "# numpyは実数のみ扱う（文字列の変換は不要だが、文字列は扱えない）"
   ]
  },
  {
   "cell_type": "code",
   "execution_count": 31,
   "metadata": {},
   "outputs": [
    {
     "name": "stdout",
     "output_type": "stream",
     "text": [
      "[[ 1.  2.  3.]\n",
      " [10. 20. 30.]]\n"
     ]
    }
   ],
   "source": [
    "import numpy as np\n",
    "\n",
    "dat = np.loadtxt(\"test-vl.csv\", delimiter=\",\")\n",
    "print(dat)"
   ]
  },
  {
   "cell_type": "code",
   "execution_count": 35,
   "metadata": {},
   "outputs": [
    {
     "name": "stdout",
     "output_type": "stream",
     "text": [
      "[[ 1.1  2.2  3.3]\n",
      " [10.  20.  30. ]]\n"
     ]
    }
   ],
   "source": [
    "dat[0][0] = 1.1\n",
    "dat[0][1] = 2.2\n",
    "dat[0][2] = 3.3\n",
    "\n",
    "print(dat)"
   ]
  },
  {
   "cell_type": "code",
   "execution_count": 37,
   "metadata": {},
   "outputs": [],
   "source": [
    "np.savetxt(\"test-vl.csv\", dat)"
   ]
  },
  {
   "cell_type": "code",
   "execution_count": 39,
   "metadata": {},
   "outputs": [
    {
     "name": "stdout",
     "output_type": "stream",
     "text": [
      "1.100000000000000089e+00 2.200000000000000178e+00 3.299999999999999822e+00\n",
      "1.000000000000000000e+01 2.000000000000000000e+01 3.000000000000000000e+01\n",
      "\n"
     ]
    }
   ],
   "source": [
    "with open(\"test-vl.csv\", \"r\") as f:\n",
    "    whole = f.read()\n",
    "    print(whole)"
   ]
  },
  {
   "cell_type": "markdown",
   "metadata": {},
   "source": [
    "# pandasも便利！（Excelも欠損値も）"
   ]
  },
  {
   "cell_type": "markdown",
   "metadata": {},
   "source": [
    "# pickleの読み書き"
   ]
  },
  {
   "cell_type": "code",
   "execution_count": 40,
   "metadata": {},
   "outputs": [],
   "source": [
    "# pickle = pythonオブジェクトのシリアライズ"
   ]
  },
  {
   "cell_type": "code",
   "execution_count": 44,
   "metadata": {},
   "outputs": [],
   "source": [
    "import pickle\n",
    "\n",
    "dat = [1, 2, 3]\n",
    "\n",
    "with open(\"test.pickle\", \"wb\") as f: #バイナリ！\n",
    "    pickle.dump(dat, f)"
   ]
  },
  {
   "cell_type": "code",
   "execution_count": 45,
   "metadata": {},
   "outputs": [
    {
     "name": "stdout",
     "output_type": "stream",
     "text": [
      "[1, 2, 3]\n"
     ]
    }
   ],
   "source": [
    "with open(\"test.pickle\", \"rb\") as f: #バイナリ！\n",
    "    dat2 = pickle.load(f)\n",
    "print(dat2)"
   ]
  },
  {
   "cell_type": "markdown",
   "metadata": {},
   "source": [
    "# よく使う標準ライブラリ"
   ]
  },
  {
   "cell_type": "code",
   "execution_count": 46,
   "metadata": {},
   "outputs": [
    {
     "data": {
      "text/plain": [
       "'/media/sf_share/FirstGitProject'"
      ]
     },
     "execution_count": 46,
     "metadata": {},
     "output_type": "execute_result"
    }
   ],
   "source": [
    "import os\n",
    "os.getcwd()"
   ]
  },
  {
   "cell_type": "code",
   "execution_count": 47,
   "metadata": {},
   "outputs": [
    {
     "data": {
      "text/plain": [
       "['.git',\n",
       " '.ipynb_checkpoints',\n",
       " 'fibo.py',\n",
       " 'hoge.py',\n",
       " 'lecture_2.ipynb',\n",
       " 'lecture_3.ipynb',\n",
       " 'lecture_4.ipynb',\n",
       " 'lecture_5.ipynb',\n",
       " 'README.md',\n",
       " 'test-vl.csv',\n",
       " 'test.csv',\n",
       " 'test.pickle',\n",
       " 'test.txt',\n",
       " '__pycache__']"
      ]
     },
     "execution_count": 47,
     "metadata": {},
     "output_type": "execute_result"
    }
   ],
   "source": [
    "os.listdir()"
   ]
  },
  {
   "cell_type": "code",
   "execution_count": 48,
   "metadata": {},
   "outputs": [
    {
     "data": {
      "text/plain": [
       "['lecture_2.ipynb', 'lecture_3.ipynb', 'lecture_4.ipynb', 'lecture_5.ipynb']"
      ]
     },
     "execution_count": 48,
     "metadata": {},
     "output_type": "execute_result"
    }
   ],
   "source": [
    "import glob\n",
    "\n",
    "glob.glob(\"*.ipynb\")"
   ]
  },
  {
   "cell_type": "code",
   "execution_count": 51,
   "metadata": {},
   "outputs": [
    {
     "name": "stdout",
     "output_type": "stream",
     "text": [
      "b'{\"pinpointLocations\":[{\"link\":\"http://weather.livedoor.com/area/forecast/1310100\",\"name\":\"\\\\u5343\\\\u4ee3\\\\u7530\\\\u533a\"},{\"link\":\"http://weather.livedoor.com/area/forecast/1310200\",\"name\":\"\\\\u4e2d\\\\u592e\\\\u533a\"},{\"link\":\"http://weather.livedoor.com/area/forecast/1310300\",\"name\":\"\\\\u6e2f\\\\u533a\"},{\"link\":\"http://weather.livedoor.com/area/forecast/1310400\",\"name\":\"\\\\u65b0\\\\u5bbf\\\\u533a\"},{\"link\":\"http://weather.livedoor.com/area/forecast/1310500\",\"name\":\"\\\\u6587\\\\u4eac\\\\u533a\"},{\"link\":\"http://weather.livedoor.com/area/forecast/1310600\",\"name\":\"\\\\u53f0\\\\u6771\\\\u533a\"},{\"link\":\"http://weather.livedoor.com/area/forecast/1310700\",\"name\":\"\\\\u58a8\\\\u7530\\\\u533a\"},{\"link\":\"http://weather.livedoor.com/area/forecast/1310800\",\"name\":\"\\\\u6c5f\\\\u6771\\\\u533a\"},{\"link\":\"http://weather.livedoor.com/area/forecast/1310900\",\"name\":\"\\\\u54c1\\\\u5ddd\\\\u533a\"},{\"link\":\"http://weather.livedoor.com/area/forecast/1311000\",\"name\":\"\\\\u76ee\\\\u9ed2\\\\u533a\"},{\"link\":\"http://weather.livedoor.com/area/forecast/1311100\",\"name\":\"\\\\u5927\\\\u7530\\\\u533a\"},{\"link\":\"http://weather.livedoor.com/area/forecast/1311200\",\"name\":\"\\\\u4e16\\\\u7530\\\\u8c37\\\\u533a\"},{\"link\":\"http://weather.livedoor.com/area/forecast/1311300\",\"name\":\"\\\\u6e0b\\\\u8c37\\\\u533a\"},{\"link\":\"http://weather.livedoor.com/area/forecast/1311400\",\"name\":\"\\\\u4e2d\\\\u91ce\\\\u533a\"},{\"link\":\"http://weather.livedoor.com/area/forecast/1311500\",\"name\":\"\\\\u6749\\\\u4e26\\\\u533a\"},{\"link\":\"http://weather.livedoor.com/area/forecast/1311600\",\"name\":\"\\\\u8c4a\\\\u5cf6\\\\u533a\"},{\"link\":\"http://weather.livedoor.com/area/forecast/1311700\",\"name\":\"\\\\u5317\\\\u533a\"},{\"link\":\"http://weather.livedoor.com/area/forecast/1311800\",\"name\":\"\\\\u8352\\\\u5ddd\\\\u533a\"},{\"link\":\"http://weather.livedoor.com/area/forecast/1311900\",\"name\":\"\\\\u677f\\\\u6a4b\\\\u533a\"},{\"link\":\"http://weather.livedoor.com/area/forecast/1312000\",\"name\":\"\\\\u7df4\\\\u99ac\\\\u533a\"},{\"link\":\"http://weather.livedoor.com/area/forecast/1312100\",\"name\":\"\\\\u8db3\\\\u7acb\\\\u533a\"},{\"link\":\"http://weather.livedoor.com/area/forecast/1312200\",\"name\":\"\\\\u845b\\\\u98fe\\\\u533a\"},{\"link\":\"http://weather.livedoor.com/area/forecast/1312300\",\"name\":\"\\\\u6c5f\\\\u6238\\\\u5ddd\\\\u533a\"},{\"link\":\"http://weather.livedoor.com/area/forecast/1320100\",\"name\":\"\\\\u516b\\\\u738b\\\\u5b50\\\\u5e02\"},{\"link\":\"http://weather.livedoor.com/area/forecast/1320200\",\"name\":\"\\\\u7acb\\\\u5ddd\\\\u5e02\"},{\"link\":\"http://weather.livedoor.com/area/forecast/1320300\",\"name\":\"\\\\u6b66\\\\u8535\\\\u91ce\\\\u5e02\"},{\"link\":\"http://weather.livedoor.com/area/forecast/1320400\",\"name\":\"\\\\u4e09\\\\u9df9\\\\u5e02\"},{\"link\":\"http://weather.livedoor.com/area/forecast/1320500\",\"name\":\"\\\\u9752\\\\u6885\\\\u5e02\"},{\"link\":\"http://weather.livedoor.com/area/forecast/1320600\",\"name\":\"\\\\u5e9c\\\\u4e2d\\\\u5e02\"},{\"link\":\"http://weather.livedoor.com/area/forecast/1320700\",\"name\":\"\\\\u662d\\\\u5cf6\\\\u5e02\"},{\"link\":\"http://weather.livedoor.com/area/forecast/1320800\",\"name\":\"\\\\u8abf\\\\u5e03\\\\u5e02\"},{\"link\":\"http://weather.livedoor.com/area/forecast/1320900\",\"name\":\"\\\\u753a\\\\u7530\\\\u5e02\"},{\"link\":\"http://weather.livedoor.com/area/forecast/1321000\",\"name\":\"\\\\u5c0f\\\\u91d1\\\\u4e95\\\\u5e02\"},{\"link\":\"http://weather.livedoor.com/area/forecast/1321100\",\"name\":\"\\\\u5c0f\\\\u5e73\\\\u5e02\"},{\"link\":\"http://weather.livedoor.com/area/forecast/1321200\",\"name\":\"\\\\u65e5\\\\u91ce\\\\u5e02\"},{\"link\":\"http://weather.livedoor.com/area/forecast/1321300\",\"name\":\"\\\\u6771\\\\u6751\\\\u5c71\\\\u5e02\"},{\"link\":\"http://weather.livedoor.com/area/forecast/1321400\",\"name\":\"\\\\u56fd\\\\u5206\\\\u5bfa\\\\u5e02\"},{\"link\":\"http://weather.livedoor.com/area/forecast/1321500\",\"name\":\"\\\\u56fd\\\\u7acb\\\\u5e02\"},{\"link\":\"http://weather.livedoor.com/area/forecast/1321800\",\"name\":\"\\\\u798f\\\\u751f\\\\u5e02\"},{\"link\":\"http://weather.livedoor.com/area/forecast/1321900\",\"name\":\"\\\\u72db\\\\u6c5f\\\\u5e02\"},{\"link\":\"http://weather.livedoor.com/area/forecast/1322000\",\"name\":\"\\\\u6771\\\\u5927\\\\u548c\\\\u5e02\"},{\"link\":\"http://weather.livedoor.com/area/forecast/1322100\",\"name\":\"\\\\u6e05\\\\u702c\\\\u5e02\"},{\"link\":\"http://weather.livedoor.com/area/forecast/1322200\",\"name\":\"\\\\u6771\\\\u4e45\\\\u7559\\\\u7c73\\\\u5e02\"},{\"link\":\"http://weather.livedoor.com/area/forecast/1322300\",\"name\":\"\\\\u6b66\\\\u8535\\\\u6751\\\\u5c71\\\\u5e02\"},{\"link\":\"http://weather.livedoor.com/area/forecast/1322400\",\"name\":\"\\\\u591a\\\\u6469\\\\u5e02\"},{\"link\":\"http://weather.livedoor.com/area/forecast/1322500\",\"name\":\"\\\\u7a32\\\\u57ce\\\\u5e02\"},{\"link\":\"http://weather.livedoor.com/area/forecast/1322700\",\"name\":\"\\\\u7fbd\\\\u6751\\\\u5e02\"},{\"link\":\"http://weather.livedoor.com/area/forecast/1322800\",\"name\":\"\\\\u3042\\\\u304d\\\\u308b\\\\u91ce\\\\u5e02\"},{\"link\":\"http://weather.livedoor.com/area/forecast/1322900\",\"name\":\"\\\\u897f\\\\u6771\\\\u4eac\\\\u5e02\"},{\"link\":\"http://weather.livedoor.com/area/forecast/1330300\",\"name\":\"\\\\u745e\\\\u7a42\\\\u753a\"},{\"link\":\"http://weather.livedoor.com/area/forecast/1330500\",\"name\":\"\\\\u65e5\\\\u306e\\\\u51fa\\\\u753a\"},{\"link\":\"http://weather.livedoor.com/area/forecast/1330700\",\"name\":\"\\\\u6a9c\\\\u539f\\\\u6751\"},{\"link\":\"http://weather.livedoor.com/area/forecast/1330800\",\"name\":\"\\\\u5965\\\\u591a\\\\u6469\\\\u753a\"}],\"link\":\"http://weather.livedoor.com/area/forecast/130010\",\"forecasts\":[{\"dateLabel\":\"\\\\u4eca\\\\u65e5\",\"telop\":\"\\\\u66c7\\\\u308a\",\"date\":\"2019-07-21\",\"temperature\":{\"min\":{\"celsius\":\"23\",\"fahrenheit\":\"73.4\"},\"max\":{\"celsius\":\"29\",\"fahrenheit\":\"84.2\"}},\"image\":{\"width\":50,\"url\":\"http://weather.livedoor.com/img/icon/8.gif\",\"title\":\"\\\\u66c7\\\\u308a\",\"height\":31}},{\"dateLabel\":\"\\\\u660e\\\\u65e5\",\"telop\":\"\\\\u66c7\\\\u306e\\\\u3061\\\\u96e8\",\"date\":\"2019-07-22\",\"temperature\":{\"min\":null,\"max\":null},\"image\":{\"width\":50,\"url\":\"http://weather.livedoor.com/img/icon/13.gif\",\"title\":\"\\\\u66c7\\\\u306e\\\\u3061\\\\u96e8\",\"height\":31}}],\"location\":{\"city\":\"\\\\u6771\\\\u4eac\",\"area\":\"\\\\u95a2\\\\u6771\",\"prefecture\":\"\\\\u6771\\\\u4eac\\\\u90fd\"},\"publicTime\":\"2019-07-20T17:00:00\\\\u002b0900\",\"copyright\":{\"provider\":[{\"link\":\"http://tenki.jp/\",\"name\":\"\\\\u65e5\\\\u672c\\\\u6c17\\\\u8c61\\\\u5354\\\\u4f1a\"}],\"link\":\"http://weather.livedoor.com/\",\"title\":\"(C) LINE Corporation\",\"image\":{\"width\":118,\"link\":\"http://weather.livedoor.com/\",\"url\":\"http://weather.livedoor.com/img/cmn/livedoor.gif\",\"title\":\"livedoor \\\\u5929\\\\u6c17\\\\u60c5\\\\u5831\",\"height\":26}},\"title\":\"\\\\u6771\\\\u4eac\\\\u90fd \\\\u6771\\\\u4eac \\\\u306e\\\\u5929\\\\u6c17\",\"description\":{\"text\":\" \\\\u6885\\\\u96e8\\\\u524d\\\\u7dda\\\\u304c\\\\u6771\\\\u65e5\\\\u672c\\\\u306b\\\\u505c\\\\u6ede\\\\u3057\\\\u3066\\\\u3044\\\\u307e\\\\u3059\\\\u3002\\\\n\\\\n \\\\u6771\\\\u4eac\\\\u5730\\\\u65b9\\\\u306f\\\\u3001\\\\u66c7\\\\u308a\\\\u3067\\\\u96e8\\\\u306e\\\\u964d\\\\u3063\\\\u3066\\\\u3044\\\\u308b\\\\u6240\\\\u304c\\\\u3042\\\\u308a\\\\u307e\\\\u3059\\\\u3002\\\\n\\\\n 20\\\\u65e5\\\\u306f\\\\u3001\\\\u524d\\\\u7dda\\\\u3084\\\\u6e7f\\\\u3063\\\\u305f\\\\u7a7a\\\\u6c17\\\\u306e\\\\u5f71\\\\u97ff\\\\u306b\\\\u3088\\\\u308a\\\\u3001\\\\u66c7\\\\u308a\\\\u3067\\\\u96e8\\\\u306e\\\\u964d\\\\u308b\\\\u6240\\\\u304c\\\\u3042\\\\u308b\\\\u3067\\\\u3057\\\\u3087\\\\u3046\\\\u3002\\\\n\\\\n 21\\\\u65e5\\\\u306f\\\\u3001\\\\u4e0a\\\\u7a7a\\\\u306e\\\\u5bd2\\\\u6c17\\\\u3084\\\\u6e7f\\\\u3063\\\\u305f\\\\u7a7a\\\\u6c17\\\\u306e\\\\u5f71\\\\u97ff\\\\u306b\\\\u3088\\\\u308a\\\\u3001\\\\u66c7\\\\u308a\\\\u3067\\\\u3001\\\\u663c\\\\u904e\\\\u304e\\\\u304b\\\\u3089\\\\u306f\\\\u96e8\\\\u3084\\\\u96f7\\\\u96e8\\\\u3068\\\\u306a\\\\u308b\\\\u6240\\\\u304c\\\\u3042\\\\u308b\\\\u898b\\\\u8fbc\\\\u307f\\\\u3067\\\\u3059\\\\u3002\\\\u307e\\\\u305f\\\\u3001\\\\u6771\\\\u4eac\\\\u90fd\\\\u3067\\\\u306f\\\\u9ad8\\\\u6e29\\\\u304c\\\\u4e88\\\\u60f3\\\\u3055\\\\u308c\\\\u308b\\\\u305f\\\\u3081\\\\u3001\\\\u71b1\\\\u4e2d\\\\u75c7\\\\u306a\\\\u3069\\\\u306e\\\\u5065\\\\u5eb7\\\\u7ba1\\\\u7406\\\\u306b\\\\u6ce8\\\\u610f\\\\u3057\\\\u3066\\\\u304f\\\\u3060\\\\u3055\\\\u3044\\\\u3002\\\\n\\\\n\\\\u3010\\\\u95a2\\\\u6771\\\\u7532\\\\u4fe1\\\\u5730\\\\u65b9\\\\u3011\\\\n \\\\u95a2\\\\u6771\\\\u7532\\\\u4fe1\\\\u5730\\\\u65b9\\\\u306f\\\\u3001\\\\u66c7\\\\u308a\\\\u307e\\\\u305f\\\\u306f\\\\u96e8\\\\u3068\\\\u306a\\\\u3063\\\\u3066\\\\u3044\\\\u307e\\\\u3059\\\\u3002\\\\n\\\\n 20\\\\u65e5\\\\u306f\\\\u3001\\\\u524d\\\\u7dda\\\\u3084\\\\u6e7f\\\\u3063\\\\u305f\\\\u7a7a\\\\u6c17\\\\u306e\\\\u5f71\\\\u97ff\\\\u306b\\\\u3088\\\\u308a\\\\u3001\\\\u66c7\\\\u308a\\\\u3084\\\\u96e8\\\\u3067\\\\u3001\\\\u95a2\\\\u6771\\\\u5730\\\\u65b9\\\\u5317\\\\u90e8\\\\u3067\\\\u306f\\\\u96f7\\\\u3092\\\\u4f34\\\\u3063\\\\u3066\\\\u975e\\\\u5e38\\\\u306b\\\\u6fc0\\\\u3057\\\\u304f\\\\u964d\\\\u308b\\\\u6240\\\\u304c\\\\u3042\\\\u308b\\\\u3067\\\\u3057\\\\u3087\\\\u3046\\\\u3002\\\\n\\\\n 21\\\\u65e5\\\\u306f\\\\u3001\\\\u4e0a\\\\u7a7a\\\\u306e\\\\u5bd2\\\\u6c17\\\\u3084\\\\u6e7f\\\\u3063\\\\u305f\\\\u7a7a\\\\u6c17\\\\u306e\\\\u5f71\\\\u97ff\\\\u306b\\\\u3088\\\\u308a\\\\u3001\\\\u66c7\\\\u308a\\\\u3067\\\\u5348\\\\u5f8c\\\\u306f\\\\u96e8\\\\u3084\\\\u96f7\\\\u96e8\\\\u3068\\\\u306a\\\\u308a\\\\u3001\\\\u95a2\\\\u6771\\\\u5730\\\\u65b9\\\\u5317\\\\u90e8\\\\u3067\\\\u306f\\\\u6fc0\\\\u3057\\\\u304f\\\\u964d\\\\u308b\\\\u6240\\\\u304c\\\\u3042\\\\u308b\\\\u898b\\\\u8fbc\\\\u307f\\\\u3067\\\\u3059\\\\u3002\\\\n\\\\n \\\\u95a2\\\\u6771\\\\u5730\\\\u65b9\\\\u3068\\\\u4f0a\\\\u8c46\\\\u8af8\\\\u5cf6\\\\u306e\\\\u6d77\\\\u4e0a\\\\u3067\\\\u306f\\\\u300120\\\\u65e5\\\\u304b\\\\u308921\\\\u65e5\\\\u306b\\\\u304b\\\\u3051\\\\u3066\\\\u3001\\\\u3046\\\\u306d\\\\u308a\\\\u3092\\\\u4f34\\\\u3044\\\\u6ce2\\\\u304c\\\\u3084\\\\u3084\\\\u9ad8\\\\u3044\\\\u3067\\\\u3057\\\\u3087\\\\u3046\\\\u3002\\\\u307e\\\\u305f\\\\u3001\\\\u6240\\\\u3005\\\\u3067\\\\u9727\\\\u304c\\\\u767a\\\\u751f\\\\u3057\\\\u3066\\\\u3044\\\\u307e\\\\u3059\\\\u3002\\\\u8239\\\\u8236\\\\u306f\\\\u3001\\\\u8996\\\\u7a0b\\\\u969c\\\\u5bb3\\\\u306b\\\\u6ce8\\\\u610f\\\\u3057\\\\u3066\\\\u304f\\\\u3060\\\\u3055\\\\u3044\\\\u3002\",\"publicTime\":\"2019-07-20T16:37:00\\\\u002b0900\"}}'\n"
     ]
    }
   ],
   "source": [
    "from urllib.request import urlopen  # urlopen関数のみインポート\n",
    "\n",
    "src = \"http://weather.livedoor.com/forecast/webservice/json/v1?city=130010\"\n",
    "f = urlopen(src)\n",
    "rslt = f.read()\n",
    "f.close()\n",
    "\n",
    "print(rslt)"
   ]
  },
  {
   "cell_type": "code",
   "execution_count": 52,
   "metadata": {},
   "outputs": [
    {
     "data": {
      "text/plain": [
       "dict"
      ]
     },
     "execution_count": 52,
     "metadata": {},
     "output_type": "execute_result"
    }
   ],
   "source": [
    "import json\n",
    "\n",
    "wdat = json.loads(rslt)\n",
    "type(wdat)"
   ]
  },
  {
   "cell_type": "code",
   "execution_count": 53,
   "metadata": {},
   "outputs": [
    {
     "name": "stdout",
     "output_type": "stream",
     "text": [
      "{'text': ' 梅雨前線が東日本に停滞しています。\\n\\n 東京地方は、曇りで雨の降っている所があります。\\n\\n 20日は、前線や湿った空気の影響により、曇りで雨の降る所があるでしょう。\\n\\n 21日は、上空の寒気や湿った空気の影響により、曇りで、昼過ぎからは雨や雷雨となる所がある見込みです。また、東京都では高温が予想されるため、熱中症などの健康管理に注意してください。\\n\\n【関東甲信地方】\\n 関東甲信地方は、曇りまたは雨となっています。\\n\\n 20日は、前線や湿った空気の影響により、曇りや雨で、関東地方北部では雷を伴って非常に激しく降る所があるでしょう。\\n\\n 21日は、上空の寒気や湿った空気の影響により、曇りで午後は雨や雷雨となり、関東地方北部では激しく降る所がある見込みです。\\n\\n 関東地方と伊豆諸島の海上では、20日から21日にかけて、うねりを伴い波がやや高いでしょう。また、所々で霧が発生しています。船舶は、視程障害に注意してください。', 'publicTime': '2019-07-20T16:37:00+0900'}\n"
     ]
    }
   ],
   "source": [
    "print(wdat[\"description\"])"
   ]
  },
  {
   "cell_type": "markdown",
   "metadata": {},
   "source": [
    "# numpy"
   ]
  },
  {
   "cell_type": "code",
   "execution_count": 55,
   "metadata": {},
   "outputs": [],
   "source": [
    "import numpy as np"
   ]
  },
  {
   "cell_type": "code",
   "execution_count": 56,
   "metadata": {},
   "outputs": [
    {
     "data": {
      "text/plain": [
       "array([list([0, 1]), list([2, 3, 4]), list([5, 6, 7, 8])], dtype=object)"
      ]
     },
     "execution_count": 56,
     "metadata": {},
     "output_type": "execute_result"
    }
   ],
   "source": [
    "a = np.array([[0,1],[2,3,4],[5,6,7,8]])\n",
    "a"
   ]
  },
  {
   "cell_type": "code",
   "execution_count": 57,
   "metadata": {},
   "outputs": [
    {
     "data": {
      "text/plain": [
       "array([[0, 1, 1, 1],\n",
       "       [2, 3, 4, 5],\n",
       "       [5, 6, 7, 8]])"
      ]
     },
     "execution_count": 57,
     "metadata": {},
     "output_type": "execute_result"
    }
   ],
   "source": [
    "a = np.array([[0,1,1,1],[2,3,4,5],[5,6,7,8]])\n",
    "a"
   ]
  },
  {
   "cell_type": "code",
   "execution_count": 58,
   "metadata": {},
   "outputs": [
    {
     "data": {
      "text/plain": [
       "2"
      ]
     },
     "execution_count": 58,
     "metadata": {},
     "output_type": "execute_result"
    }
   ],
   "source": [
    "a.ndim"
   ]
  },
  {
   "cell_type": "code",
   "execution_count": 59,
   "metadata": {},
   "outputs": [
    {
     "data": {
      "text/plain": [
       "(3, 4)"
      ]
     },
     "execution_count": 59,
     "metadata": {},
     "output_type": "execute_result"
    }
   ],
   "source": [
    "a.shape"
   ]
  },
  {
   "cell_type": "code",
   "execution_count": 64,
   "metadata": {},
   "outputs": [
    {
     "data": {
      "text/plain": [
       "array([0.        , 0.33333333, 0.66666667, 1.        ])"
      ]
     },
     "execution_count": 64,
     "metadata": {},
     "output_type": "execute_result"
    }
   ],
   "source": [
    "np.linspace(0,1,4)"
   ]
  },
  {
   "cell_type": "code",
   "execution_count": 66,
   "metadata": {},
   "outputs": [
    {
     "data": {
      "text/plain": [
       "array([0.  , 0.25, 0.5 , 0.75])"
      ]
     },
     "execution_count": 66,
     "metadata": {},
     "output_type": "execute_result"
    }
   ],
   "source": [
    "np.linspace(0,1,4,endpoint=False)"
   ]
  },
  {
   "cell_type": "code",
   "execution_count": 67,
   "metadata": {},
   "outputs": [
    {
     "data": {
      "text/plain": [
       "array([[1, 0, 0],\n",
       "       [0, 2, 0],\n",
       "       [0, 0, 3]])"
      ]
     },
     "execution_count": 67,
     "metadata": {},
     "output_type": "execute_result"
    }
   ],
   "source": [
    "a = np.diag([1,2,3])\n",
    "a"
   ]
  },
  {
   "cell_type": "code",
   "execution_count": 68,
   "metadata": {},
   "outputs": [
    {
     "data": {
      "text/plain": [
       "2"
      ]
     },
     "execution_count": 68,
     "metadata": {},
     "output_type": "execute_result"
    }
   ],
   "source": [
    "a[1,1]"
   ]
  },
  {
   "cell_type": "code",
   "execution_count": 69,
   "metadata": {},
   "outputs": [
    {
     "data": {
      "text/plain": [
       "array([0, 0, 3])"
      ]
     },
     "execution_count": 69,
     "metadata": {},
     "output_type": "execute_result"
    }
   ],
   "source": [
    "a[:,2]"
   ]
  },
  {
   "cell_type": "code",
   "execution_count": 70,
   "metadata": {},
   "outputs": [
    {
     "data": {
      "text/plain": [
       "array([0, 2, 0])"
      ]
     },
     "execution_count": 70,
     "metadata": {},
     "output_type": "execute_result"
    }
   ],
   "source": [
    "a[1,:]"
   ]
  },
  {
   "cell_type": "code",
   "execution_count": 71,
   "metadata": {},
   "outputs": [
    {
     "data": {
      "text/plain": [
       "array([0, 2, 0])"
      ]
     },
     "execution_count": 71,
     "metadata": {},
     "output_type": "execute_result"
    }
   ],
   "source": [
    "a[1]"
   ]
  },
  {
   "cell_type": "code",
   "execution_count": 72,
   "metadata": {},
   "outputs": [
    {
     "data": {
      "text/plain": [
       "array([0, 1, 2, 3])"
      ]
     },
     "execution_count": 72,
     "metadata": {},
     "output_type": "execute_result"
    }
   ],
   "source": [
    "a = np.arange(4)\n",
    "a"
   ]
  },
  {
   "cell_type": "markdown",
   "metadata": {},
   "source": [
    "# ファンシーインデックス"
   ]
  },
  {
   "cell_type": "code",
   "execution_count": 73,
   "metadata": {},
   "outputs": [
    {
     "data": {
      "text/plain": [
       "array([1, 3])"
      ]
     },
     "execution_count": 73,
     "metadata": {},
     "output_type": "execute_result"
    }
   ],
   "source": [
    "idx = [False, True, False, True]  #Trueの成分だけ抽出される\n",
    "a[idx]"
   ]
  },
  {
   "cell_type": "code",
   "execution_count": 74,
   "metadata": {},
   "outputs": [
    {
     "data": {
      "text/plain": [
       "array([0, 2])"
      ]
     },
     "execution_count": 74,
     "metadata": {},
     "output_type": "execute_result"
    }
   ],
   "source": [
    "a[a%2 == 0]  #こんな使い方ができる"
   ]
  },
  {
   "cell_type": "code",
   "execution_count": 75,
   "metadata": {},
   "outputs": [
    {
     "data": {
      "text/plain": [
       "array([0, 2, 3])"
      ]
     },
     "execution_count": 75,
     "metadata": {},
     "output_type": "execute_result"
    }
   ],
   "source": [
    "a[[0,2,3]]  #つまり、添字がコレクションなら順番に適用される"
   ]
  },
  {
   "cell_type": "code",
   "execution_count": 76,
   "metadata": {},
   "outputs": [],
   "source": [
    "mask = np.array([0,1,1,0], dtype=bool)"
   ]
  },
  {
   "cell_type": "code",
   "execution_count": 77,
   "metadata": {},
   "outputs": [
    {
     "data": {
      "text/plain": [
       "array([False,  True,  True, False])"
      ]
     },
     "execution_count": 77,
     "metadata": {},
     "output_type": "execute_result"
    }
   ],
   "source": [
    "mask"
   ]
  },
  {
   "cell_type": "code",
   "execution_count": 78,
   "metadata": {},
   "outputs": [
    {
     "data": {
      "text/plain": [
       "array([1, 2])"
      ]
     },
     "execution_count": 78,
     "metadata": {},
     "output_type": "execute_result"
    }
   ],
   "source": [
    "a[mask]"
   ]
  },
  {
   "cell_type": "code",
   "execution_count": null,
   "metadata": {},
   "outputs": [],
   "source": []
  }
 ],
 "metadata": {
  "kernelspec": {
   "display_name": "Python 3",
   "language": "python",
   "name": "python3"
  },
  "language_info": {
   "codemirror_mode": {
    "name": "ipython",
    "version": 3
   },
   "file_extension": ".py",
   "mimetype": "text/x-python",
   "name": "python",
   "nbconvert_exporter": "python",
   "pygments_lexer": "ipython3",
   "version": "3.6.4"
  }
 },
 "nbformat": 4,
 "nbformat_minor": 2
}
